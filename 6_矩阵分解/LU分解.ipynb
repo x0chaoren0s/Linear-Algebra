{
 "cells": [
  {
   "cell_type": "markdown",
   "metadata": {},
   "source": [
    "# LU分解\n",
    "\n",
    "## 历史背景\n",
    "LU分解最早可以追溯到1938年，由德国数学家赫尔曼·多利特尔(Hermann Doolittle)提出。当时科学家们正在寻找一种高效的方法来求解大型线性方程组，特别是在工程计算和物理模拟中经常遇到的问题。\n",
    "\n",
    "## 基本概念\n",
    "LU分解是将一个矩阵分解为一个下三角矩阵 $L$ 和一个上三角矩阵 $U$ 的乘积。对于一个方阵 $A$，如果存在一个下三角矩阵 $L$ 和一个上三角矩阵 $U$ 使得 $A = LU$，那么我们称 $A$ 可以进行LU分解。\n",
    "\n",
    "## 为什么需要LU分解？\n",
    "想象你需要用同一个矩阵 $A$ 求解多个方程 $Ax = b$（其中 $b$ 不同）。如果每次都使用高斯消元法，就会重复很多计算。而通过LU分解，我们可以：\n",
    "1. 先将 $A$ 分解为 $LU$（只需一次）\n",
    "2. 然后对每个新的 $b$，依次求解：\n",
    "   - $Ly = b$ （前向替换）\n",
    "   - $Ux = y$ （后向替换）\n",
    "\n",
    "这样大大提高了计算效率！\n",
    "\n",
    "## 应用场景\n",
    "1. 求解线性方程组\n",
    "   - 在有限元分析中求解大型方程组\n",
    "   - 电路分析中的节点电压计算\n",
    "   \n",
    "2. 计算行列式\n",
    "   - 行列式等于U矩阵对角线元素的乘积\n",
    "   \n",
    "3. 计算逆矩阵\n",
    "   - 可以通过解n个线性方程组得到\n",
    "\n",
    "## 实际例子\n",
    "考虑矩阵 $A$：\n",
    "$$ A = \\begin{bmatrix} 2 & 3 \\\\ 5 & 4 \\end{bmatrix} $$\n",
    "\n",
    "我们可以将其分解为：\n",
    "$$ L = \\begin{bmatrix} 1 & 0 \\\\ 2.5 & 1 \\end{bmatrix}, \\quad U = \\begin{bmatrix} 2 & 3 \\\\ 0 & -3.5 \\end{bmatrix} $$\n"
   ]
  },
  {
   "cell_type": "code",
   "execution_count": 28,
   "metadata": {},
   "outputs": [
    {
     "name": "stdout",
     "output_type": "stream",
     "text": [
      "原始矩阵 A:\n"
     ]
    },
    {
     "data": {
      "text/latex": [
       "$\\displaystyle \\left[\\begin{matrix}2 & 3\\\\5 & 4\\end{matrix}\\right]$"
      ],
      "text/plain": [
       "⎡2  3⎤\n",
       "⎢    ⎥\n",
       "⎣5  4⎦"
      ]
     },
     "metadata": {},
     "output_type": "display_data"
    },
    {
     "name": "stdout",
     "output_type": "stream",
     "text": [
      "\n",
      "下三角矩阵 L:\n"
     ]
    },
    {
     "data": {
      "text/latex": [
       "$\\displaystyle \\left[\\begin{matrix}1.0 & 0.0\\\\0.4 & 1.0\\end{matrix}\\right]$"
      ],
      "text/plain": [
       "⎡1.0  0.0⎤\n",
       "⎢        ⎥\n",
       "⎣0.4  1.0⎦"
      ]
     },
     "metadata": {},
     "output_type": "display_data"
    },
    {
     "name": "stdout",
     "output_type": "stream",
     "text": [
      "\n",
      "上三角矩阵 U:\n"
     ]
    },
    {
     "data": {
      "text/latex": [
       "$\\displaystyle \\left[\\begin{matrix}5.0 & 4.0\\\\0.0 & 1.4\\end{matrix}\\right]$"
      ],
      "text/plain": [
       "⎡5.0  4.0⎤\n",
       "⎢        ⎥\n",
       "⎣0.0  1.4⎦"
      ]
     },
     "metadata": {},
     "output_type": "display_data"
    },
    {
     "name": "stdout",
     "output_type": "stream",
     "text": [
      "\n",
      "验证 L × U:\n"
     ]
    },
    {
     "data": {
      "text/latex": [
       "$\\displaystyle \\left[\\begin{matrix}5.0 & 4.0\\\\2.0 & 3.0\\end{matrix}\\right]$"
      ],
      "text/plain": [
       "⎡5.0  4.0⎤\n",
       "⎢        ⎥\n",
       "⎣2.0  3.0⎦"
      ]
     },
     "metadata": {},
     "output_type": "display_data"
    }
   ],
   "source": [
    "import numpy as np\n",
    "import sympy as sp\n",
    "from scipy.linalg import lu\n",
    "\n",
    "# 设置sympy的显示方式为latex\n",
    "sp.init_printing(use_latex=True)\n",
    "\n",
    "# 示例矩阵\n",
    "A = sp.Matrix([[2, 3],\n",
    "               [5, 4]])\n",
    "print(\"原始矩阵 A:\")\n",
    "# print(A)\n",
    "display(A)\n",
    "\n",
    "# LU分解\n",
    "A_np = np.array(A).astype(float)\n",
    "P, L, U = lu(A_np)\n",
    "L_sp = sp.Matrix(L)\n",
    "U_sp = sp.Matrix(U)\n",
    "\n",
    "print(\"\\n下三角矩阵 L:\")\n",
    "# print(L_sp)\n",
    "display(L_sp)\n",
    "\n",
    "print(\"\\n上三角矩阵 U:\")\n",
    "# print(U_sp)\n",
    "display(U_sp)\n",
    "\n",
    "print(\"\\n验证 L × U:\")\n",
    "# print(L_sp * U_sp)\n",
    "display(L_sp * U_sp) "
   ]
  },
  {
   "cell_type": "markdown",
   "metadata": {},
   "source": [
    "\n",
    "## 优缺点分析\n",
    "### 优点\n",
    "1. 计算效率高：对于多次求解同一矩阵的情况\n",
    "2. 存储效率好：可以将L和U存储在同一个矩阵中\n",
    "3. 实现简单：基本就是高斯消元的变体\n",
    "\n",
    "### 缺点\n",
    "1. 不是所有矩阵都能进行LU分解\n",
    "2. 数值稳定性可能存在问题\n",
    "3. 对于稀疏矩阵，可能失去稀疏性\n",
    "\n",
    "## 替代技术\n",
    "1. Cholesky分解\n",
    "   - 仅适用于对称正定矩阵\n",
    "   - 但计算量只有LU分解的一半\n",
    "   \n",
    "2. QR分解\n",
    "   - 数值稳定性更好\n",
    "   - 但计算量较大\n",
    "\n",
    "## 高级应用\n",
    "1. 预处理技术\n",
    "   - 在迭代法求解大型稀疏线性方程组时\n",
    "   - 使用不完全LU分解(ILU)作为预处理器\n",
    "\n",
    "2. 区块三角化\n",
    "   - 在处理大型稀疏矩阵时\n",
    "   - 结合置换来获得更好的分解结构\n",
    "\n",
    "## 扩展阅读\n",
    "- 带选主元的LU分解\n",
    "- 分块LU分解\n",
    "- 并行LU分解算法\n"
   ]
  }
 ],
 "metadata": {
  "kernelspec": {
   "display_name": "linear-algebra",
   "language": "python",
   "name": "python3"
  },
  "language_info": {
   "codemirror_mode": {
    "name": "ipython",
    "version": 3
   },
   "file_extension": ".py",
   "mimetype": "text/x-python",
   "name": "python",
   "nbconvert_exporter": "python",
   "pygments_lexer": "ipython3",
   "version": "3.8.20"
  }
 },
 "nbformat": 4,
 "nbformat_minor": 2
}
